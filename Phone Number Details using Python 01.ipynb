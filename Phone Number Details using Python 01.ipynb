{
 "cells": [
  {
   "cell_type": "code",
   "execution_count": 1,
   "id": "be8e75ca",
   "metadata": {},
   "outputs": [
    {
     "name": "stdout",
     "output_type": "stream",
     "text": [
      "Requirement already satisfied: phonenumbers in c:\\users\\saika\\anaconda3\\lib\\site-packages (8.13.7)\n",
      "Note: you may need to restart the kernel to use updated packages.\n"
     ]
    }
   ],
   "source": [
    "pip install phonenumbers"
   ]
  },
  {
   "cell_type": "code",
   "execution_count": 6,
   "id": "82a0e1e1",
   "metadata": {},
   "outputs": [
    {
     "name": "stdout",
     "output_type": "stream",
     "text": [
      "Country Code: 91 National Number: 7009999999\n"
     ]
    }
   ],
   "source": [
    "# Program to convert input to\n",
    "# phonenumber format\n",
    "  \n",
    "import phonenumbers\n",
    "  \n",
    "# Parsing String to Phone number\n",
    "# Phone number format: (+Countrycode)xxxxxxxxxx\n",
    "phoneNumber = phonenumbers.parse(\"+91700XXXXXXX\")\n",
    "  \n",
    "# This will print the phone number and \n",
    "# it's basic details.\n",
    "print(phoneNumber)"
   ]
  },
  {
   "cell_type": "code",
   "execution_count": 7,
   "id": "9357c822",
   "metadata": {},
   "outputs": [
    {
     "name": "stdout",
     "output_type": "stream",
     "text": [
      "('Asia/Calcutta',)\n"
     ]
    }
   ],
   "source": [
    "# Program to get timezone a phone number\n",
    "  \n",
    "import phonenumbers\n",
    "from phonenumbers import timezone\n",
    "  \n",
    "# Parsing String to Phone number\n",
    "phoneNumber = phonenumbers.parse(\"+91700XXXXXXX\")\n",
    "  \n",
    "# Pass the parsed phone number in below function\n",
    "timeZone = timezone.time_zones_for_number(phoneNumber)\n",
    "  \n",
    "# It print the timezone of a phonenumber\n",
    "print(timeZone)"
   ]
  },
  {
   "cell_type": "code",
   "execution_count": 8,
   "id": "69012a40",
   "metadata": {},
   "outputs": [],
   "source": [
    "# Program to extract phone numbers from a text\n",
    "import phonenumbers\n",
    "  \n",
    "# Text Input\n",
    "text = \"Contact us at +91700XXXXXXX or +14691234567\"\n",
    "  \n",
    "# Pass the text and country code to the below function\n",
    "numbers = phonenumbers.PhoneNumberMatcher(text, \"IN\")\n",
    "  \n",
    "# Printing the phone numbers matched with country code\n",
    "# and also the indexes of the phone numbers in the string input\n",
    "for number in numbers:\n",
    "    print(number)"
   ]
  },
  {
   "cell_type": "code",
   "execution_count": 9,
   "id": "e01c299f",
   "metadata": {},
   "outputs": [
    {
     "name": "stdout",
     "output_type": "stream",
     "text": [
      "Reliance Jio\n",
      "India\n"
     ]
    }
   ],
   "source": [
    "# Program to find carrier and region\n",
    "# of a phone number\n",
    "import phonenumbers\n",
    "from phonenumbers import geocoder, carrier\n",
    "  \n",
    "# Parsing String to Phone number\n",
    "phoneNumber = phonenumbers.parse(\"+91700XXXXXXX\")\n",
    "  \n",
    "# Getting carrier of a phone number\n",
    "Carrier = carrier.name_for_number(phoneNumber, 'en')\n",
    "  \n",
    "# Getting region information\n",
    "Region = geocoder.description_for_number(phoneNumber, 'en')\n",
    "  \n",
    "# Printing the carrier and region of a phone number\n",
    "print(Carrier)\n",
    "print(Region)"
   ]
  },
  {
   "cell_type": "code",
   "execution_count": 10,
   "id": "6e95cb4a",
   "metadata": {},
   "outputs": [
    {
     "name": "stdout",
     "output_type": "stream",
     "text": [
      "True\n",
      "True\n"
     ]
    }
   ],
   "source": [
    "# Program to check whether a phone number is\n",
    "# valid or not\n",
    "import phonenumbers\n",
    "\n",
    "# Parsing String to Phone number\n",
    "phone_number = phonenumbers.parse(\"+91700XXXXXXX\")\n",
    "\n",
    "# Validating a phone number\n",
    "valid = phonenumbers.is_valid_number(phone_number)\n",
    "\n",
    "# Checking possibility of a number\n",
    "possible = phonenumbers.is_possible_number(phone_number)\n",
    "\n",
    "# Printing the output\n",
    "print(valid)\n",
    "print(possible)\n"
   ]
  },
  {
   "cell_type": "code",
   "execution_count": null,
   "id": "021c6103",
   "metadata": {},
   "outputs": [],
   "source": []
  }
 ],
 "metadata": {
  "kernelspec": {
   "display_name": "Python 3 (ipykernel)",
   "language": "python",
   "name": "python3"
  },
  "language_info": {
   "codemirror_mode": {
    "name": "ipython",
    "version": 3
   },
   "file_extension": ".py",
   "mimetype": "text/x-python",
   "name": "python",
   "nbconvert_exporter": "python",
   "pygments_lexer": "ipython3",
   "version": "3.9.13"
  }
 },
 "nbformat": 4,
 "nbformat_minor": 5
}
